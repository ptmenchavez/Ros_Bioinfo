{
 "cells": [
  {
   "cell_type": "markdown",
   "metadata": {},
   "source": [
    "# <font color = 'gold'> Rosalind Bioinformatics Textbook Track </font>\n",
    "## <font color = 'palevioletred'> Problem BA1A </font>\n",
    "### Compute the Number of Times a Pattern Appears in a Text\n",
    "<p>\n",
    "<font color = 'steelblue'>\n",
    "Implement PatternCount\n",
    "    \n",
    "> Given: {DNA strings}} Text and Pattern\n",
    "\n",
    "> Return: Count(Text, Pattern)\n",
    "\n",
    "</font>"
   ]
  },
  {
   "cell_type": "code",
   "execution_count": 1,
   "metadata": {},
   "outputs": [],
   "source": [
    "# PatternCount function will take a text and pattern\n",
    "# The function will then look for how many times the pattern occurs within the text\n",
    "\n",
    "def PatternCount(text, pattern):\n",
    "    p_len = len(pattern)\n",
    "    end_pos = len(text)-p_len\n",
    "    count = 0\n",
    "    matches = []\n",
    "    for i in range(0, end_pos+1):\n",
    "        test = text[i:i + p_len]\n",
    "        if test == pattern:\n",
    "            count = count + 1\n",
    "            matches.append(i)\n",
    "    print(count)"
   ]
  },
  {
   "cell_type": "markdown",
   "metadata": {},
   "source": [
    "<font color = 'steelblue'>\n",
    "    Let's test the function.\n",
    "</font>"
   ]
  },
  {
   "cell_type": "code",
   "execution_count": 2,
   "metadata": {},
   "outputs": [
    {
     "name": "stdout",
     "output_type": "stream",
     "text": [
      "2\n"
     ]
    }
   ],
   "source": [
    "PatternCount('ATCATCTACATGAT', 'CAT')"
   ]
  },
  {
   "cell_type": "markdown",
   "metadata": {},
   "source": [
    "<font color = 'seagreen'>\n",
    "<b>\n",
    "Problem solved!\n",
    "</b>\n",
    "</font>"
   ]
  },
  {
   "cell_type": "code",
   "execution_count": null,
   "metadata": {},
   "outputs": [],
   "source": []
  }
 ],
 "metadata": {
  "kernelspec": {
   "display_name": "Python 3",
   "language": "python",
   "name": "python3"
  },
  "language_info": {
   "codemirror_mode": {
    "name": "ipython",
    "version": 3
   },
   "file_extension": ".py",
   "mimetype": "text/x-python",
   "name": "python",
   "nbconvert_exporter": "python",
   "pygments_lexer": "ipython3",
   "version": "3.6.4"
  }
 },
 "nbformat": 4,
 "nbformat_minor": 2
}
